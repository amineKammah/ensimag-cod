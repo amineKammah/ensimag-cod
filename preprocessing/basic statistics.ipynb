{
 "cells": [
  {
   "cell_type": "code",
   "execution_count": 28,
   "metadata": {},
   "outputs": [],
   "source": [
    "import pandas as pd\n",
    "import seaborn as sns\n",
    "pd.options.display.max_rows = 999"
   ]
  },
  {
   "cell_type": "markdown",
   "metadata": {},
   "source": [
    "### Reading the csv file using read_csv method"
   ]
  },
  {
   "cell_type": "code",
   "execution_count": 7,
   "metadata": {},
   "outputs": [],
   "source": [
    "df = pd.read_csv('../Downloads/shootings.csv')"
   ]
  },
  {
   "cell_type": "markdown",
   "metadata": {},
   "source": [
    "### Creating Year, Month, Day_of_month columns"
   ]
  },
  {
   "cell_type": "code",
   "execution_count": 45,
   "metadata": {},
   "outputs": [],
   "source": [
    "df['month'] = pd.to_datetime(df.date).dt.month\n",
    "df['year'] = pd.to_datetime(df.date).dt.year\n",
    "df['day_of_month'] = pd.to_datetime(df.date).dt.day"
   ]
  },
  {
   "cell_type": "markdown",
   "metadata": {},
   "source": [
    "### Columns in our dataset"
   ]
  },
  {
   "cell_type": "code",
   "execution_count": 9,
   "metadata": {},
   "outputs": [
    {
     "data": {
      "text/plain": [
       "array(['id', 'name', 'date', 'manner_of_death', 'armed', 'age', 'gender',\n",
       "       'race', 'city', 'state', 'signs_of_mental_illness', 'threat_level',\n",
       "       'flee', 'body_camera', 'arms_category'], dtype=object)"
      ]
     },
     "execution_count": 9,
     "metadata": {},
     "output_type": "execute_result"
    }
   ],
   "source": [
    "df.columns.values"
   ]
  },
  {
   "cell_type": "markdown",
   "metadata": {},
   "source": [
    "### Do we have any missing entries?"
   ]
  },
  {
   "cell_type": "code",
   "execution_count": 5,
   "metadata": {},
   "outputs": [
    {
     "data": {
      "text/plain": [
       "id                         False\n",
       "name                       False\n",
       "date                       False\n",
       "manner_of_death            False\n",
       "armed                      False\n",
       "age                        False\n",
       "gender                     False\n",
       "race                       False\n",
       "city                       False\n",
       "state                      False\n",
       "signs_of_mental_illness    False\n",
       "threat_level               False\n",
       "flee                       False\n",
       "body_camera                False\n",
       "arms_category              False\n",
       "dtype: bool"
      ]
     },
     "execution_count": 5,
     "metadata": {},
     "output_type": "execute_result"
    }
   ],
   "source": [
    "df.isna().any()\n",
    "# Prints a list if there is any missing information per column"
   ]
  },
  {
   "cell_type": "code",
   "execution_count": 19,
   "metadata": {},
   "outputs": [
    {
     "data": {
      "text/plain": [
       "id                           int64\n",
       "name                        object\n",
       "date                        object\n",
       "manner_of_death             object\n",
       "armed                       object\n",
       "age                        float64\n",
       "gender                      object\n",
       "race                        object\n",
       "city                        object\n",
       "state                       object\n",
       "signs_of_mental_illness       bool\n",
       "threat_level                object\n",
       "flee                        object\n",
       "body_camera                   bool\n",
       "arms_category               object\n",
       "dtype: object"
      ]
     },
     "execution_count": 19,
     "metadata": {},
     "output_type": "execute_result"
    }
   ],
   "source": [
    "df.dtypes"
   ]
  },
  {
   "cell_type": "markdown",
   "metadata": {},
   "source": [
    "### Categorical / Numerical columns"
   ]
  },
  {
   "cell_type": "code",
   "execution_count": 24,
   "metadata": {},
   "outputs": [],
   "source": [
    "categorical_columns = [\n",
    "    'name', 'date', 'manner_of_death', 'armed', 'gender', 'race', 'city',\n",
    "    'state', 'threat_level', 'flee', 'arms_category',  'signs_of_mental_illness',\n",
    "    'body_camera'\n",
    "]\n",
    "\n",
    "numerical_columns = ['id', 'age']\n",
    "\n",
    "assert set(numerical_columns + categorical_columns) == set(df.columns)"
   ]
  },
  {
   "cell_type": "markdown",
   "metadata": {},
   "source": [
    "### Analyzing numerical columns"
   ]
  },
  {
   "cell_type": "code",
   "execution_count": 27,
   "metadata": {},
   "outputs": [],
   "source": [
    "# Id is a a unique identifier for each shooting, analytically useless."
   ]
  },
  {
   "cell_type": "markdown",
   "metadata": {},
   "source": [
    "#### Age distribution"
   ]
  },
  {
   "cell_type": "code",
   "execution_count": 29,
   "metadata": {},
   "outputs": [
    {
     "data": {
      "text/plain": [
       "<AxesSubplot:xlabel='age'>"
      ]
     },
     "execution_count": 29,
     "metadata": {},
     "output_type": "execute_result"
    },
    {
     "data": {
      "image/png": "[encoded data removed]",
      "text/plain": [
       "<Figure size 432x288 with 1 Axes>"
      ]
     },
     "metadata": {
      "needs_background": "light"
     },
     "output_type": "display_data"
    }
   ],
   "source": [
    "sns.distplot(df['age'])"
   ]
  },
  {
   "cell_type": "code",
   "execution_count": 35,
   "metadata": {},
   "outputs": [
    {
     "data": {
      "text/plain": [
       "6       2\n",
       "12      1\n",
       "13      1\n",
       "14      3\n",
       "15     13\n",
       "16     30\n",
       "17     47\n",
       "18     93\n",
       "19     82\n",
       "20     90\n",
       "21     99\n",
       "22    113\n",
       "23    125\n",
       "24    152\n",
       "25    176\n",
       "26    140\n",
       "27    165\n",
       "28    150\n",
       "29    160\n",
       "30    146\n",
       "31    174\n",
       "32    159\n",
       "33    164\n",
       "34    159\n",
       "35    143\n",
       "36    145\n",
       "37    222\n",
       "38    121\n",
       "39    116\n",
       "40    104\n",
       "41    110\n",
       "42     92\n",
       "43     78\n",
       "44     76\n",
       "45    105\n",
       "46     83\n",
       "47     87\n",
       "48     75\n",
       "49     73\n",
       "50     80\n",
       "51     68\n",
       "52     54\n",
       "53     62\n",
       "54     48\n",
       "55     49\n",
       "56     52\n",
       "57     43\n",
       "58     49\n",
       "59     51\n",
       "60     29\n",
       "61     31\n",
       "62     28\n",
       "63     25\n",
       "64     20\n",
       "65     18\n",
       "66     14\n",
       "67     13\n",
       "68     13\n",
       "69     13\n",
       "70     11\n",
       "71      8\n",
       "72      5\n",
       "73      4\n",
       "74      4\n",
       "75      4\n",
       "76      8\n",
       "77      3\n",
       "78      1\n",
       "79      1\n",
       "80      2\n",
       "81      1\n",
       "82      2\n",
       "83      2\n",
       "84      4\n",
       "91      1\n",
       "Name: age, dtype: int64"
      ]
     },
     "execution_count": 35,
     "metadata": {},
     "output_type": "execute_result"
    }
   ],
   "source": [
    "# Number of shootings per age\n",
    "df.age.astype(int).value_counts().sort_index()"
   ]
  },
  {
   "cell_type": "code",
   "execution_count": 36,
   "metadata": {},
   "outputs": [],
   "source": [
    "### Categorical analysis"
   ]
  },
  {
   "cell_type": "code",
   "execution_count": 38,
   "metadata": {},
   "outputs": [
    {
     "data": {
      "text/plain": [
       "['name',\n",
       " 'date',\n",
       " 'manner_of_death',\n",
       " 'armed',\n",
       " 'gender',\n",
       " 'race',\n",
       " 'city',\n",
       " 'state',\n",
       " 'threat_level',\n",
       " 'flee',\n",
       " 'arms_category',\n",
       " 'signs_of_mental_illness',\n",
       " 'body_camera']"
      ]
     },
     "execution_count": 38,
     "metadata": {},
     "output_type": "execute_result"
    }
   ],
   "source": [
    "categorical_columns"
   ]
  },
  {
   "cell_type": "code",
   "execution_count": 44,
   "metadata": {},
   "outputs": [
    {
     "name": "stdout",
     "output_type": "stream",
     "text": [
      "Values repartition for \"name\":\n",
      "TK TK                    29\n",
      "Michael Ferguson          2\n",
      "Miguel Mercado Segura     2\n",
      "Joseph Santos             2\n",
      "Benjamin Diaz             2\n",
      "                         ..\n",
      "Carlumandarlo Zaramo      1\n",
      "Lawrence Caldwell         1\n",
      "Robbie Ramirez            1\n",
      "Wade Allen Baker          1\n",
      "David McAtee              1\n",
      "Name: name, Length: 4851, dtype: int64\n",
      "\n",
      "\n",
      "\n",
      "\n",
      "Values repartition for \"date\":\n",
      "2018-04-01    9\n",
      "2018-06-29    9\n",
      "2018-01-06    9\n",
      "2018-02-01    8\n",
      "2019-06-06    8\n",
      "             ..\n",
      "2020-04-23    1\n",
      "2015-09-08    1\n",
      "2019-10-05    1\n",
      "2020-04-01    1\n",
      "2015-11-26    1\n",
      "Name: date, Length: 1792, dtype: int64\n",
      "\n",
      "\n",
      "\n",
      "\n",
      "Values repartition for \"manner_of_death\":\n",
      "shot                4647\n",
      "shot and Tasered     248\n",
      "Name: manner_of_death, dtype: int64\n",
      "\n",
      "\n",
      "\n",
      "\n",
      "Values repartition for \"armed\":\n",
      "gun                                 2755\n",
      "knife                                708\n",
      "unknown                              418\n",
      "unarmed                              348\n",
      "toy weapon                           171\n",
      "vehicle                              120\n",
      "machete                               39\n",
      "Taser                                 24\n",
      "sword                                 22\n",
      "ax                                    21\n",
      "baseball bat                          16\n",
      "gun and knife                         15\n",
      "hammer                                14\n",
      "screwdriver                           12\n",
      "metal pipe                            12\n",
      "box cutter                            11\n",
      "hatchet                               11\n",
      "sharp object                          11\n",
      "gun and vehicle                       10\n",
      "gun and car                            9\n",
      "scissors                               7\n",
      "crossbow                               6\n",
      "rock                                   6\n",
      "blunt object                           5\n",
      "piece of wood                          5\n",
      "BB gun                                 5\n",
      "pipe                                   5\n",
      "meat cleaver                           5\n",
      "shovel                                 5\n",
      "baton                                  4\n",
      "vehicle and gun                        4\n",
      "pick-axe                               4\n",
      "crowbar                                4\n",
      "straight edge razor                    4\n",
      "chair                                  4\n",
      "samurai sword                          3\n",
      "chain                                  3\n",
      "metal stick                            3\n",
      "guns and explosives                    3\n",
      "metal pole                             3\n",
      "pole                                   2\n",
      "pellet gun                             2\n",
      "metal object                           2\n",
      "pole and knife                         2\n",
      "hatchet and gun                        2\n",
      "pitchfork                              2\n",
      "garden tool                            2\n",
      "brick                                  2\n",
      "lawn mower blade                       2\n",
      "incendiary device                      2\n",
      "glass shard                            2\n",
      "chain saw                              1\n",
      "motorcycle                             1\n",
      "cordless drill                         1\n",
      "pepper spray                           1\n",
      "spear                                  1\n",
      "fireworks                              1\n",
      "wasp spray                             1\n",
      "baseball bat and bottle                1\n",
      "flashlight                             1\n",
      "air conditioner                        1\n",
      "bow and arrow                          1\n",
      "BB gun and vehicle                     1\n",
      "pen                                    1\n",
      "machete and gun                        1\n",
      "bean-bag gun                           1\n",
      "metal rake                             1\n",
      "gun and sword                          1\n",
      "car, knife and mace                    1\n",
      "hand torch                             1\n",
      "flagpole                               1\n",
      "baseball bat and fireplace poker       1\n",
      "ice pick                               1\n",
      "wrench                                 1\n",
      "air pistol                             1\n",
      "barstool                               1\n",
      "contractor's level                     1\n",
      "oar                                    1\n",
      "walking stick                          1\n",
      "chainsaw                               1\n",
      "carjack                                1\n",
      "vehicle and machete                    1\n",
      "metal hand tool                        1\n",
      "bayonet                                1\n",
      "baseball bat and knife                 1\n",
      "grenade                                1\n",
      "nail gun                               1\n",
      "beer bottle                            1\n",
      "stapler                                1\n",
      "Name: armed, dtype: int64\n",
      "\n",
      "\n",
      "\n",
      "\n",
      "Values repartition for \"gender\":\n",
      "M    4673\n",
      "F     222\n",
      "Name: gender, dtype: int64\n",
      "\n",
      "\n",
      "\n",
      "\n",
      "Values repartition for \"race\":\n",
      "White       2476\n",
      "Black       1298\n",
      "Hispanic     902\n",
      "Asian         93\n",
      "Native        78\n",
      "Other         48\n",
      "Name: race, dtype: int64\n",
      "\n",
      "\n",
      "\n",
      "\n",
      "Values repartition for \"city\":\n",
      "Los Angeles        78\n",
      "Phoenix            66\n",
      "Houston            51\n",
      "Las Vegas          41\n",
      "San Antonio        40\n",
      "                   ..\n",
      "East Hollywood      1\n",
      "Belmont             1\n",
      "Powhatan County     1\n",
      "Tukwila             1\n",
      "Bridgeton           1\n",
      "Name: city, Length: 2288, dtype: int64\n",
      "\n",
      "\n",
      "\n",
      "\n",
      "Values repartition for \"state\":\n",
      "CA    701\n",
      "TX    426\n",
      "FL    324\n",
      "AZ    222\n",
      "CO    168\n",
      "GA    161\n",
      "OK    151\n",
      "NC    148\n",
      "OH    146\n",
      "WA    126\n",
      "TN    125\n",
      "MO    124\n",
      "LA    102\n",
      "IL     99\n",
      "PA     95\n",
      "AL     95\n",
      "NM     93\n",
      "VA     92\n",
      "IN     91\n",
      "NY     90\n",
      "WI     88\n",
      "KY     87\n",
      "NV     85\n",
      "SC     80\n",
      "MD     77\n",
      "OR     76\n",
      "AR     73\n",
      "MI     71\n",
      "MS     61\n",
      "MN     60\n",
      "NJ     60\n",
      "UT     58\n",
      "KS     49\n",
      "WV     46\n",
      "ID     37\n",
      "AK     36\n",
      "MA     33\n",
      "IA     31\n",
      "HI     29\n",
      "MT     29\n",
      "NE     24\n",
      "ME     21\n",
      "CT     20\n",
      "SD     14\n",
      "DC     13\n",
      "WY     13\n",
      "NH     12\n",
      "ND     11\n",
      "DE     10\n",
      "VT      8\n",
      "RI      4\n",
      "Name: state, dtype: int64\n",
      "\n",
      "\n",
      "\n",
      "\n",
      "Values repartition for \"threat_level\":\n",
      "attack          3160\n",
      "other           1528\n",
      "undetermined     207\n",
      "Name: threat_level, dtype: int64\n",
      "\n",
      "\n",
      "\n",
      "\n",
      "Values repartition for \"flee\":\n",
      "Not fleeing    3073\n",
      "Car             820\n",
      "Foot            642\n",
      "Other           360\n",
      "Name: flee, dtype: int64\n",
      "\n",
      "\n",
      "\n",
      "\n",
      "Values repartition for \"arms_category\":\n",
      "Guns                     2764\n",
      "Sharp objects             818\n",
      "Unknown                   418\n",
      "Unarmed                   348\n",
      "Other unusual objects     192\n",
      "Blunt instruments         122\n",
      "Vehicles                  121\n",
      "Multiple                   54\n",
      "Piercing objects           29\n",
      "Electrical devices         24\n",
      "Explosives                  4\n",
      "Hand tools                  1\n",
      "Name: arms_category, dtype: int64\n",
      "\n",
      "\n",
      "\n",
      "\n",
      "Values repartition for \"signs_of_mental_illness\":\n",
      "False    3792\n",
      "True     1103\n",
      "Name: signs_of_mental_illness, dtype: int64\n",
      "\n",
      "\n",
      "\n",
      "\n",
      "Values repartition for \"body_camera\":\n",
      "False    4317\n",
      "True      578\n",
      "Name: body_camera, dtype: int64\n",
      "\n",
      "\n",
      "\n",
      "\n"
     ]
    }
   ],
   "source": [
    "for column in categorical_columns:\n",
    "    print(f'Values repartition for \"{column}\":')\n",
    "    print(df[column].value_counts())\n",
    "    print('\\n\\n\\n')"
   ]
  },
  {
   "cell_type": "markdown",
   "metadata": {},
   "source": [
    "### Aggregation des categories d'une faible frequence"
   ]
  },
  {
   "cell_type": "code",
   "execution_count": 59,
   "metadata": {},
   "outputs": [
    {
     "data": {
      "text/plain": [
       "gun                                 0.562819\n",
       "knife                               0.144637\n",
       "unknown                             0.085393\n",
       "unarmed                             0.071093\n",
       "toy weapon                          0.034934\n",
       "vehicle                             0.024515\n",
       "machete                             0.007967\n",
       "Taser                               0.004903\n",
       "sword                               0.004494\n",
       "ax                                  0.004290\n",
       "baseball bat                        0.003269\n",
       "gun and knife                       0.003064\n",
       "hammer                              0.002860\n",
       "screwdriver                         0.002451\n",
       "metal pipe                          0.002451\n",
       "box cutter                          0.002247\n",
       "hatchet                             0.002247\n",
       "sharp object                        0.002247\n",
       "gun and vehicle                     0.002043\n",
       "gun and car                         0.001839\n",
       "scissors                            0.001430\n",
       "crossbow                            0.001226\n",
       "rock                                0.001226\n",
       "blunt object                        0.001021\n",
       "piece of wood                       0.001021\n",
       "BB gun                              0.001021\n",
       "pipe                                0.001021\n",
       "meat cleaver                        0.001021\n",
       "shovel                              0.001021\n",
       "baton                               0.000817\n",
       "vehicle and gun                     0.000817\n",
       "pick-axe                            0.000817\n",
       "crowbar                             0.000817\n",
       "straight edge razor                 0.000817\n",
       "chair                               0.000817\n",
       "samurai sword                       0.000613\n",
       "chain                               0.000613\n",
       "metal stick                         0.000613\n",
       "guns and explosives                 0.000613\n",
       "metal pole                          0.000613\n",
       "pole                                0.000409\n",
       "pellet gun                          0.000409\n",
       "metal object                        0.000409\n",
       "pole and knife                      0.000409\n",
       "hatchet and gun                     0.000409\n",
       "pitchfork                           0.000409\n",
       "garden tool                         0.000409\n",
       "brick                               0.000409\n",
       "lawn mower blade                    0.000409\n",
       "incendiary device                   0.000409\n",
       "glass shard                         0.000409\n",
       "chain saw                           0.000204\n",
       "motorcycle                          0.000204\n",
       "cordless drill                      0.000204\n",
       "pepper spray                        0.000204\n",
       "spear                               0.000204\n",
       "fireworks                           0.000204\n",
       "wasp spray                          0.000204\n",
       "baseball bat and bottle             0.000204\n",
       "flashlight                          0.000204\n",
       "air conditioner                     0.000204\n",
       "bow and arrow                       0.000204\n",
       "BB gun and vehicle                  0.000204\n",
       "pen                                 0.000204\n",
       "machete and gun                     0.000204\n",
       "bean-bag gun                        0.000204\n",
       "metal rake                          0.000204\n",
       "gun and sword                       0.000204\n",
       "car, knife and mace                 0.000204\n",
       "hand torch                          0.000204\n",
       "flagpole                            0.000204\n",
       "baseball bat and fireplace poker    0.000204\n",
       "ice pick                            0.000204\n",
       "wrench                              0.000204\n",
       "air pistol                          0.000204\n",
       "barstool                            0.000204\n",
       "contractor's level                  0.000204\n",
       "oar                                 0.000204\n",
       "walking stick                       0.000204\n",
       "chainsaw                            0.000204\n",
       "carjack                             0.000204\n",
       "vehicle and machete                 0.000204\n",
       "metal hand tool                     0.000204\n",
       "bayonet                             0.000204\n",
       "baseball bat and knife              0.000204\n",
       "grenade                             0.000204\n",
       "nail gun                            0.000204\n",
       "beer bottle                         0.000204\n",
       "stapler                             0.000204\n",
       "Name: armed, dtype: float64"
      ]
     },
     "execution_count": 59,
     "metadata": {},
     "output_type": "execute_result"
    }
   ],
   "source": [
    "df.armed.value_counts() / df.shape[0]"
   ]
  },
  {
   "cell_type": "code",
   "execution_count": null,
   "metadata": {},
   "outputs": [],
   "source": []
  }
 ],
 "metadata": {
  "kernelspec": {
   "display_name": "dev",
   "language": "python",
   "name": "dev"
  },
  "language_info": {
   "codemirror_mode": {
    "name": "ipython",
    "version": 3
   },
   "file_extension": ".py",
   "mimetype": "text/x-python",
   "name": "python",
   "nbconvert_exporter": "python",
   "pygments_lexer": "ipython3",
   "version": "3.8.5"
  }
 },
 "nbformat": 4,
 "nbformat_minor": 4
}
